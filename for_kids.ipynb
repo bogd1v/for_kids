{
  "nbformat": 4,
  "nbformat_minor": 0,
  "metadata": {
    "colab": {
      "private_outputs": true,
      "provenance": []
    },
    "kernelspec": {
      "name": "python3",
      "display_name": "Python 3"
    },
    "language_info": {
      "name": "python"
    }
  },
  "cells": [
    {
      "cell_type": "code",
      "execution_count": null,
      "metadata": {
        "id": "ZoyYc7yv_BQ2"
      },
      "outputs": [],
      "source": [
        "# Простий приклад змінних\n",
        "name = \"Іван\"\n",
        "age = 30\n",
        "print(\"Мене звати\", name, \"і мені\", age, \"років\")"
      ]
    },
    {
      "cell_type": "code",
      "source": [
        "# Введення та виведення даних\n",
        "name = input(\"What's your name? \")\n",
        "print(\"Hello, \" + name + \"!\")"
      ],
      "metadata": {
        "id": "K5NZmtZ7GeWu"
      },
      "execution_count": null,
      "outputs": []
    },
    {
      "cell_type": "code",
      "source": [
        "# Умовні оператори\n",
        "x = 10\n",
        "if x > 5:\n",
        "  print(\"x is greater than 5\")\n",
        "else:\n",
        "  print(\"x is less than or equal to 5\")"
      ],
      "metadata": {
        "id": "3ASlY7BE63aC"
      },
      "execution_count": null,
      "outputs": []
    },
    {
      "cell_type": "code",
      "source": [
        "# Цикли\n",
        "for i in range(1, 6):\n",
        "  print(i)"
      ],
      "metadata": {
        "id": "YqWk2l8I7EW2"
      },
      "execution_count": null,
      "outputs": []
    },
    {
      "cell_type": "code",
      "source": [
        "#Списки\n",
        "my_list = [1, 2, 3, 4, 5]\n",
        "print(my_list[0])  # 1\n",
        "print(my_list[2])  # 3"
      ],
      "metadata": {
        "id": "gsjwCz6A7Lmt"
      },
      "execution_count": null,
      "outputs": []
    },
    {
      "cell_type": "code",
      "source": [
        "# Функції\n",
        "def add_numbers(a, b):\n",
        "  return a + b\n",
        "\n",
        "result = add_numbers(3, 5)\n",
        "print(result)  "
      ],
      "metadata": {
        "id": "al2XXyqz7Vgl"
      },
      "execution_count": null,
      "outputs": []
    },
    {
      "cell_type": "code",
      "source": [
        "!pip3 install ColabTurtle\n",
        "from ColabTurtle.Turtle import *"
      ],
      "metadata": {
        "id": "GCo8vYGu1aRy"
      },
      "execution_count": null,
      "outputs": []
    },
    {
      "cell_type": "code",
      "source": [
        "initializeTurtle(10, (300, 300))\n",
        "\n",
        "for i in range(36):\n",
        "   right(10)\n",
        "   forward(10)"
      ],
      "metadata": {
        "id": "8k1qKsjv1l1k"
      },
      "execution_count": null,
      "outputs": []
    }
  ]
}